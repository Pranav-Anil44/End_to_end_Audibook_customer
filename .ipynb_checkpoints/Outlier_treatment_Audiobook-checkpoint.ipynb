{
 "cells": [
  {
   "cell_type": "code",
   "execution_count": 1,
   "id": "7b6293ff-f171-4d5f-98f1-a399117995c5",
   "metadata": {},
   "outputs": [],
   "source": [
    "import pandas as pd\n",
    "import numpy as np\n",
    "import matplotlib.pyplot as plt\n"
   ]
  },
  {
   "cell_type": "code",
   "execution_count": 2,
   "id": "3fe0725d-25ce-4f73-83db-52fe03d2af00",
   "metadata": {},
   "outputs": [
    {
     "data": {
      "text/html": [
       "<div>\n",
       "<style scoped>\n",
       "    .dataframe tbody tr th:only-of-type {\n",
       "        vertical-align: middle;\n",
       "    }\n",
       "\n",
       "    .dataframe tbody tr th {\n",
       "        vertical-align: top;\n",
       "    }\n",
       "\n",
       "    .dataframe thead th {\n",
       "        text-align: right;\n",
       "    }\n",
       "</style>\n",
       "<table border=\"1\" class=\"dataframe\">\n",
       "  <thead>\n",
       "    <tr style=\"text-align: right;\">\n",
       "      <th></th>\n",
       "      <th>ID</th>\n",
       "      <th>Book_length_min</th>\n",
       "      <th>Book_length_char</th>\n",
       "      <th>Avg_rating</th>\n",
       "      <th>Rating_count</th>\n",
       "      <th>Review_score</th>\n",
       "      <th>Price</th>\n",
       "      <th>Discount</th>\n",
       "      <th>Total_minutes_listened</th>\n",
       "      <th>Completion</th>\n",
       "      <th>Support_requests</th>\n",
       "      <th>Target</th>\n",
       "    </tr>\n",
       "  </thead>\n",
       "  <tbody>\n",
       "    <tr>\n",
       "      <th>0</th>\n",
       "      <td>1143</td>\n",
       "      <td>2160.0</td>\n",
       "      <td>2160</td>\n",
       "      <td>5.33</td>\n",
       "      <td>5.33</td>\n",
       "      <td>0</td>\n",
       "      <td>8.91</td>\n",
       "      <td>0.00</td>\n",
       "      <td>0.0</td>\n",
       "      <td>0</td>\n",
       "      <td>0</td>\n",
       "      <td>0</td>\n",
       "    </tr>\n",
       "    <tr>\n",
       "      <th>1</th>\n",
       "      <td>2059</td>\n",
       "      <td>2160.0</td>\n",
       "      <td>2160</td>\n",
       "      <td>5.33</td>\n",
       "      <td>5.33</td>\n",
       "      <td>0</td>\n",
       "      <td>8.91</td>\n",
       "      <td>0.00</td>\n",
       "      <td>0.0</td>\n",
       "      <td>0</td>\n",
       "      <td>388</td>\n",
       "      <td>0</td>\n",
       "    </tr>\n",
       "    <tr>\n",
       "      <th>2</th>\n",
       "      <td>2882</td>\n",
       "      <td>1620.0</td>\n",
       "      <td>1620</td>\n",
       "      <td>5.96</td>\n",
       "      <td>5.96</td>\n",
       "      <td>0</td>\n",
       "      <td>8.91</td>\n",
       "      <td>0.42</td>\n",
       "      <td>680.4</td>\n",
       "      <td>1</td>\n",
       "      <td>129</td>\n",
       "      <td>0</td>\n",
       "    </tr>\n",
       "    <tr>\n",
       "      <th>3</th>\n",
       "      <td>3342</td>\n",
       "      <td>2160.0</td>\n",
       "      <td>2160</td>\n",
       "      <td>5.33</td>\n",
       "      <td>5.33</td>\n",
       "      <td>0</td>\n",
       "      <td>8.91</td>\n",
       "      <td>0.22</td>\n",
       "      <td>475.2</td>\n",
       "      <td>0</td>\n",
       "      <td>361</td>\n",
       "      <td>0</td>\n",
       "    </tr>\n",
       "    <tr>\n",
       "      <th>4</th>\n",
       "      <td>3416</td>\n",
       "      <td>2160.0</td>\n",
       "      <td>2160</td>\n",
       "      <td>4.61</td>\n",
       "      <td>4.61</td>\n",
       "      <td>0</td>\n",
       "      <td>8.91</td>\n",
       "      <td>0.00</td>\n",
       "      <td>0.0</td>\n",
       "      <td>0</td>\n",
       "      <td>0</td>\n",
       "      <td>0</td>\n",
       "    </tr>\n",
       "  </tbody>\n",
       "</table>\n",
       "</div>"
      ],
      "text/plain": [
       "     ID  Book_length_min  Book_length_char  Avg_rating  Rating_count  \\\n",
       "0  1143           2160.0              2160        5.33          5.33   \n",
       "1  2059           2160.0              2160        5.33          5.33   \n",
       "2  2882           1620.0              1620        5.96          5.96   \n",
       "3  3342           2160.0              2160        5.33          5.33   \n",
       "4  3416           2160.0              2160        4.61          4.61   \n",
       "\n",
       "   Review_score  Price  Discount  Total_minutes_listened  Completion  \\\n",
       "0             0   8.91      0.00                     0.0           0   \n",
       "1             0   8.91      0.00                     0.0           0   \n",
       "2             0   8.91      0.42                   680.4           1   \n",
       "3             0   8.91      0.22                   475.2           0   \n",
       "4             0   8.91      0.00                     0.0           0   \n",
       "\n",
       "   Support_requests  Target  \n",
       "0                 0       0  \n",
       "1               388       0  \n",
       "2               129       0  \n",
       "3               361       0  \n",
       "4                 0       0  "
      ]
     },
     "execution_count": 2,
     "metadata": {},
     "output_type": "execute_result"
    }
   ],
   "source": [
    "raw_data=pd.read_csv('Audiobook_initial.csv')\n",
    "raw_data.head()"
   ]
  },
  {
   "cell_type": "code",
   "execution_count": 3,
   "id": "e0a9d812-0097-40cb-a13c-d7c969a2c807",
   "metadata": {},
   "outputs": [
    {
     "name": "stdout",
     "output_type": "stream",
     "text": [
      "ID                        0\n",
      "Book_length_min           0\n",
      "Book_length_char          0\n",
      "Avg_rating                0\n",
      "Rating_count              0\n",
      "Review_score              0\n",
      "Price                     0\n",
      "Discount                  0\n",
      "Total_minutes_listened    0\n",
      "Completion                0\n",
      "Support_requests          0\n",
      "Target                    0\n",
      "dtype: int64\n"
     ]
    }
   ],
   "source": [
    "#handling missing values is what we will do as a primary step in EDA \n",
    "#We are checking it once again to see if we have any mising values\n",
    "print(raw_data.isnull().sum())"
   ]
  },
  {
   "cell_type": "code",
   "execution_count": 4,
   "id": "24046316-0717-455e-8d8a-ef45529583fd",
   "metadata": {},
   "outputs": [],
   "source": [
    "#So there is no missing values so we do need to tae any action on cleaning the missing values.\n",
    "#Marking handling missing values as completed"
   ]
  },
  {
   "cell_type": "code",
   "execution_count": null,
   "id": "0554dae2-d760-4de3-99d9-27aaa992b8ab",
   "metadata": {},
   "outputs": [],
   "source": [
    "\n"
   ]
  },
  {
   "cell_type": "code",
   "execution_count": 5,
   "id": "b73d94d9-ed8c-4cee-9ce8-69c588a54825",
   "metadata": {},
   "outputs": [
    {
     "name": "stdout",
     "output_type": "stream",
     "text": [
      "Requirement already satisfied: seaborn in c:\\users\\prana\\anaconda3\\lib\\site-packages (0.13.2)\n",
      "Requirement already satisfied: numpy!=1.24.0,>=1.20 in c:\\users\\prana\\anaconda3\\lib\\site-packages (from seaborn) (1.26.4)\n",
      "Requirement already satisfied: pandas>=1.2 in c:\\users\\prana\\anaconda3\\lib\\site-packages (from seaborn) (2.2.2)\n",
      "Requirement already satisfied: matplotlib!=3.6.1,>=3.4 in c:\\users\\prana\\anaconda3\\lib\\site-packages (from seaborn) (3.8.4)\n",
      "Requirement already satisfied: contourpy>=1.0.1 in c:\\users\\prana\\anaconda3\\lib\\site-packages (from matplotlib!=3.6.1,>=3.4->seaborn) (1.2.0)\n",
      "Requirement already satisfied: cycler>=0.10 in c:\\users\\prana\\anaconda3\\lib\\site-packages (from matplotlib!=3.6.1,>=3.4->seaborn) (0.11.0)\n",
      "Requirement already satisfied: fonttools>=4.22.0 in c:\\users\\prana\\anaconda3\\lib\\site-packages (from matplotlib!=3.6.1,>=3.4->seaborn) (4.51.0)\n",
      "Requirement already satisfied: kiwisolver>=1.3.1 in c:\\users\\prana\\anaconda3\\lib\\site-packages (from matplotlib!=3.6.1,>=3.4->seaborn) (1.4.4)\n",
      "Requirement already satisfied: packaging>=20.0 in c:\\users\\prana\\anaconda3\\lib\\site-packages (from matplotlib!=3.6.1,>=3.4->seaborn) (23.2)\n",
      "Requirement already satisfied: pillow>=8 in c:\\users\\prana\\anaconda3\\lib\\site-packages (from matplotlib!=3.6.1,>=3.4->seaborn) (10.3.0)\n",
      "Requirement already satisfied: pyparsing>=2.3.1 in c:\\users\\prana\\anaconda3\\lib\\site-packages (from matplotlib!=3.6.1,>=3.4->seaborn) (3.0.9)\n",
      "Requirement already satisfied: python-dateutil>=2.7 in c:\\users\\prana\\anaconda3\\lib\\site-packages (from matplotlib!=3.6.1,>=3.4->seaborn) (2.9.0.post0)\n",
      "Requirement already satisfied: pytz>=2020.1 in c:\\users\\prana\\anaconda3\\lib\\site-packages (from pandas>=1.2->seaborn) (2024.1)\n",
      "Requirement already satisfied: tzdata>=2022.7 in c:\\users\\prana\\anaconda3\\lib\\site-packages (from pandas>=1.2->seaborn) (2023.3)\n",
      "Requirement already satisfied: six>=1.5 in c:\\users\\prana\\anaconda3\\lib\\site-packages (from python-dateutil>=2.7->matplotlib!=3.6.1,>=3.4->seaborn) (1.16.0)\n"
     ]
    }
   ],
   "source": [
    "!pip install seaborn"
   ]
  },
  {
   "cell_type": "code",
   "execution_count": null,
   "id": "0af8eaf3-abc1-4e93-ae1e-cc2ed7c70874",
   "metadata": {},
   "outputs": [],
   "source": []
  },
  {
   "cell_type": "code",
   "execution_count": 6,
   "id": "cc3107f6-8921-4fd8-943d-18ccab5ad281",
   "metadata": {},
   "outputs": [
    {
     "name": "stdout",
     "output_type": "stream",
     "text": [
      "C:\\Users\\prana\\anaconda3\\envs\\fresh_env\\python.exe\n"
     ]
    }
   ],
   "source": [
    "import sys\n",
    "print(sys.executable)"
   ]
  },
  {
   "cell_type": "code",
   "execution_count": 7,
   "id": "1d9991bc-e54b-4ba6-94d5-cd2ed4e6ad30",
   "metadata": {},
   "outputs": [
    {
     "name": "stdout",
     "output_type": "stream",
     "text": [
      "Requirement already satisfied: seaborn in c:\\users\\prana\\anaconda3\\envs\\fresh_env\\lib\\site-packages (0.13.2)\n",
      "Requirement already satisfied: numpy!=1.24.0,>=1.20 in c:\\users\\prana\\anaconda3\\envs\\fresh_env\\lib\\site-packages (from seaborn) (2.0.1)\n",
      "Requirement already satisfied: pandas>=1.2 in c:\\users\\prana\\anaconda3\\envs\\fresh_env\\lib\\site-packages (from seaborn) (2.2.3)\n",
      "Requirement already satisfied: matplotlib!=3.6.1,>=3.4 in c:\\users\\prana\\anaconda3\\envs\\fresh_env\\lib\\site-packages (from seaborn) (3.9.4)\n",
      "Requirement already satisfied: contourpy>=1.0.1 in c:\\users\\prana\\anaconda3\\envs\\fresh_env\\lib\\site-packages (from matplotlib!=3.6.1,>=3.4->seaborn) (1.3.0)\n",
      "Requirement already satisfied: cycler>=0.10 in c:\\users\\prana\\anaconda3\\envs\\fresh_env\\lib\\site-packages (from matplotlib!=3.6.1,>=3.4->seaborn) (0.12.1)\n",
      "Requirement already satisfied: fonttools>=4.22.0 in c:\\users\\prana\\anaconda3\\envs\\fresh_env\\lib\\site-packages (from matplotlib!=3.6.1,>=3.4->seaborn) (4.55.6)\n",
      "Requirement already satisfied: kiwisolver>=1.3.1 in c:\\users\\prana\\anaconda3\\envs\\fresh_env\\lib\\site-packages (from matplotlib!=3.6.1,>=3.4->seaborn) (1.4.7)\n",
      "Requirement already satisfied: packaging>=20.0 in c:\\users\\prana\\anaconda3\\envs\\fresh_env\\lib\\site-packages (from matplotlib!=3.6.1,>=3.4->seaborn) (24.2)\n",
      "Requirement already satisfied: pillow>=8 in c:\\users\\prana\\anaconda3\\envs\\fresh_env\\lib\\site-packages (from matplotlib!=3.6.1,>=3.4->seaborn) (11.1.0)\n",
      "Requirement already satisfied: pyparsing>=2.3.1 in c:\\users\\prana\\anaconda3\\envs\\fresh_env\\lib\\site-packages (from matplotlib!=3.6.1,>=3.4->seaborn) (3.2.1)\n",
      "Requirement already satisfied: python-dateutil>=2.7 in c:\\users\\prana\\anaconda3\\envs\\fresh_env\\lib\\site-packages (from matplotlib!=3.6.1,>=3.4->seaborn) (2.9.0.post0)\n",
      "Requirement already satisfied: importlib-resources>=3.2.0 in c:\\users\\prana\\anaconda3\\envs\\fresh_env\\lib\\site-packages (from matplotlib!=3.6.1,>=3.4->seaborn) (6.5.2)\n",
      "Requirement already satisfied: pytz>=2020.1 in c:\\users\\prana\\anaconda3\\envs\\fresh_env\\lib\\site-packages (from pandas>=1.2->seaborn) (2024.1)\n",
      "Requirement already satisfied: tzdata>=2022.7 in c:\\users\\prana\\anaconda3\\envs\\fresh_env\\lib\\site-packages (from pandas>=1.2->seaborn) (2023.3)\n",
      "Requirement already satisfied: zipp>=3.1.0 in c:\\users\\prana\\anaconda3\\envs\\fresh_env\\lib\\site-packages (from importlib-resources>=3.2.0->matplotlib!=3.6.1,>=3.4->seaborn) (3.21.0)\n",
      "Requirement already satisfied: six>=1.5 in c:\\users\\prana\\anaconda3\\envs\\fresh_env\\lib\\site-packages (from python-dateutil>=2.7->matplotlib!=3.6.1,>=3.4->seaborn) (1.16.0)\n"
     ]
    }
   ],
   "source": [
    "!{sys.executable} -m pip install seaborn"
   ]
  },
  {
   "cell_type": "code",
   "execution_count": 8,
   "id": "8f3dc1b2-1af9-45c3-a5f0-232bb2352c16",
   "metadata": {},
   "outputs": [
    {
     "data": {
      "image/png": "[encoded data removed]",
      "text/plain": [
       "<Figure size 1500x800 with 10 Axes>"
      ]
     },
     "metadata": {},
     "output_type": "display_data"
    }
   ],
   "source": [
    "#now the next step is to remove outlliers\n",
    "#firsly we have to identify the outliers , for which we can use boxplots\n",
    "import matplotlib.pyplot as plt\n",
    "import seaborn as sns\n",
    "\n",
    "#now we can select the numeric columns , we can ignore ID  and target\n",
    "\n",
    "num_cols=raw_data.drop(['ID','Target'],axis=1).select_dtypes(include=np.number).columns\n",
    "#we are extracting the the num columns only, because outlier detection methods like boxplot ,IQR Z-Score only works on numeric values\n",
    "\n",
    "plt.figure(figsize=(15,8))\n",
    "\n",
    "for i, cols in enumerate(num_cols,1):\n",
    "    plt.subplot(3,4,i)\n",
    "    sns.boxplot(x=raw_data[cols])\n",
    "    plt.title(cols)\n",
    "plt.tight_layout()\n",
    "plt.show()\n",
    "\n",
    "#we use enumerate in for loop to ensure that we are taking both the index as well as the value\n",
    "#i tells plt.subplot which position in the grid to draw the plot.\n",
    "#col tells Seaborn which column of data to use.\n",
    "#So without enumerate, you’d only have col, but not the subplot index i."
   ]
  },
  {
   "cell_type": "markdown",
   "id": "07d51c4f-28d2-4ac6-acd4-54ccd5d20c73",
   "metadata": {},
   "source": [
    "now we have the idea of outliers in each column\n",
    "let try IQR method first to remve outliers:\n",
    "For each numeric column:\n",
    "Q1 = 25th percentile\n",
    "Q3 = 75th percentile\n",
    "IQR = Q3 – Q1\n",
    "Define bounds:\n",
    "Lower bound = Q1 – 1.5 × IQR\n",
    "Upper bound = Q3 + 1.5 × IQR\n",
    "Any value outside these bounds = outlier."
   ]
  },
  {
   "cell_type": "code",
   "execution_count": 10,
   "id": "1587a82f-45c9-4196-a662-13e35b5bfc22",
   "metadata": {},
   "outputs": [
    {
     "name": "stdout",
     "output_type": "stream",
     "text": [
      "Outliers count per column\n",
      "{'Book_length_min': 0, 'Book_length_char': 249, 'Avg_rating': 304, 'Rating_count': 729, 'Review_score': 2263, 'Price': 2467, 'Discount': 2098, 'Total_minutes_listened': 2116, 'Completion': 616, 'Support_requests': 600}\n"
     ]
    }
   ],
   "source": [
    "outlier_summary={}\n",
    "for col in num_cols:\n",
    "    q1=raw_data[col].quantile(0.25)\n",
    "    q3=raw_data[col].quantile(0.75)\n",
    "    IQR=q3-q1\n",
    "    lower_bound=q1-1.5*IQR\n",
    "    upper_bound=q3+1.5*IQR\n",
    "\n",
    "    outliers=raw_data[(raw_data[col]<lower_bound) | (raw_data[col] > upper_bound)]\n",
    "    outlier_summary[col]=len(outliers)\n",
    "\n",
    "#lets see how many outliers per column\n",
    "\n",
    "print(\"Outliers count per column\")\n",
    "print(outlier_summary)\n",
    "    "
   ]
  },
  {
   "cell_type": "markdown",
   "id": "71e1949c-da38-4b4d-a289-727a5f737bc5",
   "metadata": {},
   "source": [
    "Keep natural business outliers (like Rating_count, Total_minutes_listened) → maybe just transform them (log scale).\n",
    "\n",
    "Remove/Cap unnatural ones (Review_score, Discount, Support_requests) where data may be corrupted."
   ]
  },
  {
   "cell_type": "code",
   "execution_count": 42,
   "id": "46ea9a39-c7ce-4849-a6c7-ddfd02a5b28c",
   "metadata": {},
   "outputs": [
    {
     "name": "stdout",
     "output_type": "stream",
     "text": [
      "Support request upper and lower bound -> lower:-157.5,upper : 262.5\n"
     ]
    }
   ],
   "source": [
    "#let's cap the outliers , so that we won't loose any data\n",
    "#Review_score → should be 0 or 1 (binary, review given or not).\n",
    "raw_data['Review_score']=raw_data['Review_score'].clip(0,1)\n",
    "\n",
    "#Discount between 0 and 1 \n",
    "#For discount also we are capping it with domain knowledge \n",
    "# From the dataset the discount 0.00 means there is no discount , 0.22 means 22% of price as discount\n",
    "# So discount is a continueous value between 0 and 1 and we are caping with domain knowledge not IQR\n",
    "\n",
    "raw_data['Discount']=raw_data['Discount'].clip(0,1)\n",
    "\n",
    "#completion\n",
    "#In our dataset it seems to be binary whether completed it is 1 if not then 0.\n",
    "\n",
    "raw_data['Completion']=raw_data['Completion'].clip(0.1)\n",
    "\n",
    "#next we can check the support request \n",
    "#this is the total number of requests raised by a customer.\n",
    "# In the dataset I can see 388 request by a customer , this is unrealistic.\n",
    "#here we are using IQR method.\n",
    "\n",
    "q1=raw_data['Support_requests'].quantile(0.25)\n",
    "q3=raw_data['Support_requests'].quantile(0.75)\n",
    "\n",
    "IQR=q3-q1\n",
    "lower_bound=q1-1.5*IQR\n",
    "upper_bound=q3+1.5*IQR\n",
    "\n",
    "print(f\"Support request upper and lower bound -> lower:{lower_bound},upper : {upper_bound}\")"
   ]
  },
  {
   "cell_type": "code",
   "execution_count": 46,
   "id": "63fcaa5a-b2f8-4c21-97ad-e80680471320",
   "metadata": {},
   "outputs": [],
   "source": [
    "# now the IQR is also giving us unrealistic resuls of ower bound -157 and upper bound 262\n",
    "#the lower bound cannot e negative so we are setting to zero with our domain knowledge\n",
    "#upper bound we can give a range to 10-20 , 262 is unrealistic.\n",
    "raw_data['Support_request']=raw_data['Support_requests'].clip(0,20)\n",
    "\n",
    "#So  by this way the unrealistic support request will become 20 and we awill not loose any data as well.\n",
    "\n"
   ]
  },
  {
   "cell_type": "code",
   "execution_count": 62,
   "id": "49890e25-1390-4620-b6e1-02baeef1ba85",
   "metadata": {},
   "outputs": [
    {
     "name": "stdout",
     "output_type": "stream",
     "text": [
      "Price lower:8.91,upper:8.91\n"
     ]
    }
   ],
   "source": [
    "#now we can cap the natural extreme ones.\n",
    "#In case of price we can go for IQR/\n",
    "\n",
    "q1=raw_data['Price'].quantile(0.25)\n",
    "q3=raw_data['Price'].quantile(0.75)\n",
    "\n",
    "IQR=q3-q1\n",
    "\n",
    "lower_bound=q1-1.5*IQR\n",
    "upper_bound=q3+1.5*IQR\n",
    "print(f\"Price lower:{lower_bound},upper:{upper_bound}\")\n"
   ]
  },
  {
   "cell_type": "code",
   "execution_count": 68,
   "id": "2de9f0d0-92cb-4323-ae01-35e986589be0",
   "metadata": {},
   "outputs": [
    {
     "name": "stdout",
     "output_type": "stream",
     "text": [
      "Price\n",
      "8.91     11616\n",
      "10.00     1283\n",
      "8.00       404\n",
      "9.00       381\n",
      "7.00       157\n",
      "6.00       104\n",
      "5.00        43\n",
      "Name: count, dtype: int64\n"
     ]
    }
   ],
   "source": [
    "#the price value 8.91 is very dominant here that is why q3 and q1 become equal and therefor\n",
    "#the IQR gets zero, so we are not going with the IQR.\n",
    "\n",
    "print(raw_data['Price'].value_counts().head(7))\n"
   ]
  },
  {
   "cell_type": "code",
   "execution_count": 72,
   "id": "b7527bb7-bced-48e6-adff-fcc9aed8520a",
   "metadata": {},
   "outputs": [
    {
     "name": "stdout",
     "output_type": "stream",
     "text": [
      " Price lower cap : 6.0 price upper cap : 10.0\n"
     ]
    }
   ],
   "source": [
    "#So capping with IQR doesn't make sense here.\n",
    "# we can move forward with percentile based capping\n",
    "\n",
    "lower_cap=raw_data['Price'].quantile(0.01)\n",
    "upper_cap=raw_data['Price'].quantile(0.99)\n",
    "print(f\" Price lower cap : {lower_cap} price upper cap : {upper_cap}\")"
   ]
  },
  {
   "cell_type": "code",
   "execution_count": 74,
   "id": "aec47eba-4841-4b60-8cf1-d5ec406d9321",
   "metadata": {},
   "outputs": [],
   "source": [
    "#Apply percentile capping as this make real sense.\n",
    "raw_data['Price']=raw_data['Price'].clip(lower=lower_cap,upper=upper_cap)"
   ]
  },
  {
   "cell_type": "code",
   "execution_count": 84,
   "id": "025cc296-26b7-4ab7-aa5c-cfc2816dd964",
   "metadata": {},
   "outputs": [
    {
     "name": "stdout",
     "output_type": "stream",
     "text": [
      "Total_minutes lower : 0.0 Total_minutes upper :1620.0\n"
     ]
    }
   ],
   "source": [
    "#same way we will do the total minutes count\n",
    "\n",
    "lower_caps=raw_data['Total_minutes_listened'].quantile(0.01)\n",
    "upper_caps=raw_data['Total_minutes_listened'].quantile(0.99)\n",
    "print(f\"Total_minutes lower : {lower_caps} Total_minutes upper :{upper_caps}\")"
   ]
  },
  {
   "cell_type": "code",
   "execution_count": 86,
   "id": "1e5322d4-5ad9-4bc3-a11f-cb7631a02940",
   "metadata": {},
   "outputs": [],
   "source": [
    "#Apply percentile capping as this values make sense\n",
    "raw_data['Total_minutes_listened']=raw_data['Total_minutes_listened'].clip(lower=lower_caps,upper=upper_caps)"
   ]
  },
  {
   "cell_type": "code",
   "execution_count": 88,
   "id": "48fa81c7-4f93-4d68-a73d-e709b48de1f2",
   "metadata": {},
   "outputs": [
    {
     "name": "stdout",
     "output_type": "stream",
     "text": [
      "Rating_count lower cap : 4.18, upper cap : 25.6\n"
     ]
    }
   ],
   "source": [
    "# Percentile capping for Rating_count\n",
    "lower_cap = raw_data['Rating_count'].quantile(0.01)\n",
    "upper_cap = raw_data['Rating_count'].quantile(0.99)\n",
    "\n",
    "print(f\"Rating_count lower cap : {lower_cap}, upper cap : {upper_cap}\")\n",
    "\n",
    "# Apply clipping\n",
    "raw_data['Rating_count'] = raw_data['Rating_count'].clip(lower=lower_cap, upper=upper_cap)"
   ]
  },
  {
   "cell_type": "code",
   "execution_count": null,
   "id": "650267ef-c6f9-4015-97be-685092eaa311",
   "metadata": {},
   "outputs": [],
   "source": []
  }
 ],
 "metadata": {
  "kernelspec": {
   "display_name": "Python (fresh_env)",
   "language": "python",
   "name": "fresh_env"
  },
  "language_info": {
   "codemirror_mode": {
    "name": "ipython",
    "version": 3
   },
   "file_extension": ".py",
   "mimetype": "text/x-python",
   "name": "python",
   "nbconvert_exporter": "python",
   "pygments_lexer": "ipython3",
   "version": "3.9.21"
  }
 },
 "nbformat": 4,
 "nbformat_minor": 5
}
