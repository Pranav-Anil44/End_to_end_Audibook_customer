{
 "cells": [
  {
   "cell_type": "code",
   "execution_count": null,
   "id": "04f5020c-dfbf-46b4-a3dd-272a65c80c5e",
   "metadata": {},
   "outputs": [],
   "source": [
    "import tensorflow as tf\n",
    "import pandas as pd\n",
    "\n",
    "raw_data=pd.read_csv('../Datasets/Audiobooks_data.csv')\n",
    "print(raw_data.shape)\n",
    "print(\"\\n --data Info--\")\n",
    "print(raw_data.info())\n",
    "print(\"\\n --data headings\")\n",
    "print(raw_data.head())\n",
    "print(\"\\n--statistical description--\")\n",
    "print(raw_data.describe)\n",
    "print(\" number of null values\")\n",
    "print(raw_data.isnull().sum())\n"
   ]
  },
  {
   "cell_type": "code",
   "execution_count": 2,
   "id": "4e641ee5-551a-4bae-adb6-b4f93cb5c815",
   "metadata": {},
   "outputs": [],
   "source": [
    "#we do not have headings here in this dataset this seems to be a bit confusing.\n",
    "#So we are adding the headings here"
   ]
  },
  {
   "cell_type": "code",
   "execution_count": 3,
   "id": "6b8b6289-f034-4830-a45f-0f00395e195b",
   "metadata": {},
   "outputs": [
    {
     "name": "stdout",
     "output_type": "stream",
     "text": [
      "     ID  Book_length_min  Book_length_char  Avg_rating  Rating_count  \\\n",
      "0  1143           2160.0              2160        5.33          5.33   \n",
      "1  2059           2160.0              2160        5.33          5.33   \n",
      "2  2882           1620.0              1620        5.96          5.96   \n",
      "3  3342           2160.0              2160        5.33          5.33   \n",
      "4  3416           2160.0              2160        4.61          4.61   \n",
      "\n",
      "   Review_score  Price  Discount  Total_minutes_listened  Completion  \\\n",
      "0             0   8.91      0.00                     0.0           0   \n",
      "1             0   8.91      0.00                     0.0           0   \n",
      "2             0   8.91      0.42                   680.4           1   \n",
      "3             0   8.91      0.22                   475.2           0   \n",
      "4             0   8.91      0.00                     0.0           0   \n",
      "\n",
      "   Support_requests  Target  \n",
      "0                 0       0  \n",
      "1               388       0  \n",
      "2               129       0  \n",
      "3               361       0  \n",
      "4                 0       0  \n",
      "Number of null values\n",
      "ID                        0\n",
      "Book_length_min           0\n",
      "Book_length_char          0\n",
      "Avg_rating                0\n",
      "Rating_count              0\n",
      "Review_score              0\n",
      "Price                     0\n",
      "Discount                  0\n",
      "Total_minutes_listened    0\n",
      "Completion                0\n",
      "Support_requests          0\n",
      "Target                    0\n",
      "dtype: int64\n"
     ]
    }
   ],
   "source": [
    "raw_data.columns = [\n",
    "    'ID',\n",
    "    'Book_length_min',\n",
    "    'Book_length_char',\n",
    "    'Avg_rating',\n",
    "    'Rating_count',\n",
    "    'Review_score',\n",
    "    'Price',\n",
    "    'Discount',\n",
    "    'Total_minutes_listened',\n",
    "    'Completion',\n",
    "    'Support_requests',\n",
    "    'Target'\n",
    "]\n",
    "\n",
    "print(raw_data.head())\n",
    "\n",
    "print(\"Number of null values\")\n",
    "print(raw_data.isnull().sum())"
   ]
  },
  {
   "cell_type": "code",
   "execution_count": 10,
   "id": "bb2c0ad2-030e-482d-a955-c1d4295b3b20",
   "metadata": {},
   "outputs": [],
   "source": [
    "raw_data.to_csv(\"Audiobook_initial.csv\",index=False)"
   ]
  },
  {
   "cell_type": "code",
   "execution_count": null,
   "id": "f3654a1c-0441-4bcf-a08b-6416737e6ac5",
   "metadata": {},
   "outputs": [],
   "source": []
  }
 ],
 "metadata": {
  "kernelspec": {
   "display_name": "Python (fresh_env)",
   "language": "python",
   "name": "fresh_env"
  },
  "language_info": {
   "codemirror_mode": {
    "name": "ipython",
    "version": 3
   },
   "file_extension": ".py",
   "mimetype": "text/x-python",
   "name": "python",
   "nbconvert_exporter": "python",
   "pygments_lexer": "ipython3",
   "version": "3.9.21"
  }
 },
 "nbformat": 4,
 "nbformat_minor": 5
}
